{
 "cells": [
  {
   "cell_type": "markdown",
   "metadata": {},
   "source": [
    "# LLM Classification Finetuning\n",
    "\n",
    "The data used for this project comes from Kaggle and cand be find here: https://www.kaggle.com/competitions/llm-classification-finetuning/data "
   ]
  },
  {
   "cell_type": "code",
   "execution_count": 20,
   "metadata": {},
   "outputs": [],
   "source": [
    "import os\n",
    "from zipfile import ZipFile"
   ]
  },
  {
   "cell_type": "code",
   "execution_count": 7,
   "metadata": {},
   "outputs": [],
   "source": [
    "\n",
    "raw_data_path = 'c:\\\\Users\\\\alang\\\\Documents\\\\dvc\\\\dvc_course\\\\data\\\\raw'\n",
    "os.chdir(raw_data_path)"
   ]
  },
  {
   "cell_type": "code",
   "execution_count": null,
   "metadata": {},
   "outputs": [
    {
     "name": "stdout",
     "output_type": "stream",
     "text": [
      "Downloading llm-classification-finetuning.zip to c:\\Users\\alang\\Documents\\dvc\\dvc_course\\data\\raw"
     ]
    },
    {
     "name": "stderr",
     "output_type": "stream",
     "text": [
      "\n",
      "  0%|          | 0.00/57.0M [00:00<?, ?B/s]\n",
      "  2%|▏         | 1.00M/57.0M [00:00<00:17, 3.40MB/s]\n",
      "  7%|▋         | 4.00M/57.0M [00:00<00:04, 11.8MB/s]\n",
      " 18%|█▊        | 10.0M/57.0M [00:00<00:01, 27.2MB/s]\n",
      " 25%|██▍       | 14.0M/57.0M [00:00<00:01, 24.1MB/s]\n",
      " 35%|███▌      | 20.0M/57.0M [00:00<00:01, 28.9MB/s]\n",
      " 42%|████▏     | 24.0M/57.0M [00:01<00:01, 30.7MB/s]\n",
      " 49%|████▉     | 28.0M/57.0M [00:01<00:00, 31.6MB/s]\n",
      " 56%|█████▌    | 32.0M/57.0M [00:01<00:01, 25.5MB/s]\n",
      " 72%|███████▏  | 41.0M/57.0M [00:01<00:00, 39.0MB/s]\n",
      " 81%|████████  | 46.0M/57.0M [00:01<00:00, 25.1MB/s]\n",
      " 88%|████████▊ | 50.0M/57.0M [00:01<00:00, 27.2MB/s]\n",
      " 95%|█████████▍| 54.0M/57.0M [00:02<00:00, 29.5MB/s]\n",
      "100%|██████████| 57.0M/57.0M [00:02<00:00, 27.4MB/s]\n"
     ]
    },
    {
     "name": "stdout",
     "output_type": "stream",
     "text": [
      "\n",
      "\n"
     ]
    }
   ],
   "source": [
    "!kaggle competitions download -c llm-classification-finetuning -d/"
   ]
  },
  {
   "cell_type": "code",
   "execution_count": 21,
   "metadata": {},
   "outputs": [],
   "source": [
    "with ZipFile('c:\\\\Users\\\\alang\\\\Documents\\\\dvc\\\\dvc_course\\\\data\\\\raw\\\\llm-classification-finetuning.zip', 'r') as zObject:\n",
    "    \n",
    "    zObject.extractall(path='c:\\\\Users\\\\alang\\\\Documents\\\\dvc\\\\dvc_course\\\\data\\\\raw\\\\data')\n",
    "zObject.close()"
   ]
  },
  {
   "cell_type": "code",
   "execution_count": 22,
   "metadata": {},
   "outputs": [],
   "source": [
    "os.chdir('c:\\\\Users\\\\alang\\\\Documents\\\\dvc')"
   ]
  }
 ],
 "metadata": {
  "kernelspec": {
   "display_name": "dvc",
   "language": "python",
   "name": "python3"
  },
  "language_info": {
   "codemirror_mode": {
    "name": "ipython",
    "version": 3
   },
   "file_extension": ".py",
   "mimetype": "text/x-python",
   "name": "python",
   "nbconvert_exporter": "python",
   "pygments_lexer": "ipython3",
   "version": "3.12.7"
  }
 },
 "nbformat": 4,
 "nbformat_minor": 2
}
